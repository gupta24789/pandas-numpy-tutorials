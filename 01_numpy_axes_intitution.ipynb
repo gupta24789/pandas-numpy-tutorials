{
  "nbformat": 4,
  "nbformat_minor": 0,
  "metadata": {
    "colab": {
      "provenance": [],
      "authorship_tag": "ABX9TyPX9/Idzn3REcWHhkIGlfjX",
      "include_colab_link": true
    },
    "kernelspec": {
      "name": "python3",
      "display_name": "Python 3"
    },
    "language_info": {
      "name": "python"
    }
  },
  "cells": [
    {
      "cell_type": "markdown",
      "metadata": {
        "id": "view-in-github",
        "colab_type": "text"
      },
      "source": [
        "<a href=\"https://colab.research.google.com/github/gupta24789/pandas-numpy-tutorials/blob/main/01_numpy_axes_intitution.ipynb\" target=\"_parent\"><img src=\"https://colab.research.google.com/assets/colab-badge.svg\" alt=\"Open In Colab\"/></a>"
      ]
    },
    {
      "cell_type": "code",
      "execution_count": 1,
      "metadata": {
        "id": "ipMhBaMd8juH"
      },
      "outputs": [],
      "source": [
        "import numpy as np"
      ]
    },
    {
      "cell_type": "markdown",
      "source": [
        "## How axes work in NumPy array\n",
        "\n",
        "- With aggregation function\n",
        "- With concatenation functions\n",
        "\n",
        "\n",
        "### **With aggregation function**\n",
        "\n",
        "- Axes parameter controls which axis will be aggregated.\n",
        "- In other words, you can say axes parameter controls which axis will collapse.\n",
        "\n",
        "<img src=\"images/np_aggregated_func.JPG\"/>\n",
        "\n",
        "\n",
        "### **With concatenation functions**\n",
        "- Axis parameter defines the axis along which we stack the arrays\n",
        "\n",
        "<img src=\"images/np_concat_func_1.JPG\"/>\n",
        "\n",
        "<img src=\"images/np_concat_func_2.JPG\"/>"
      ],
      "metadata": {
        "id": "g7PMJf_GBDRq"
      }
    },
    {
      "cell_type": "code",
      "source": [],
      "metadata": {
        "id": "KcGpze8kDFUX"
      },
      "execution_count": null,
      "outputs": []
    }
  ]
}